{
 "cells": [
  {
   "cell_type": "markdown",
   "metadata": {},
   "source": [
    "# P177: Final Exam\n",
    "Spring 2018\n",
    "\n",
    "**Due:** please complete by **Friday, June 15th**.  \n",
    "Pro-tip: do this way before then. \n",
    "\n",
    "**iEval:** please complete the [iEval](https://ieval.ucr.edu/) before **Friday, June 8th**. \n",
    "\n",
    "\n",
    "*Nicholas Casteloes*"
   ]
  },
  {
   "cell_type": "markdown",
   "metadata": {},
   "source": [
    "## 1. Kaggle Tutorial \n",
    "\n",
    "1. Create a Kaggle account and navigate to the \"[Titanic: Machine Learning from Disaster](https://www.kaggle.com/c/titanic)\" competition. Read a bit about the challenge.\n",
    "\n",
    "2. Navigate to Helge Bjorland's \"[Interactive Data Science Tutorial](https://www.kaggle.com/helgejo/an-interactive-data-science-tutorial)\" that uses the Titanic dataset. (**Note:** in class we used [Rochelle Silva's tutorial](https://www.kaggle.com/rochellesilva/simple-tutorial-for-beginners), the Bjorland tutorial is probably a little more insightful.) \n",
    "\n",
    "3. **Fork** the tutorial and go through it. Run everything. You are not required to complete the \"exercises\" (cells where you have to type code), but you get extra credit if you do.\n",
    "\n",
    "4. Download the completed tutorial as a Jupyter notebook (`ipynb` file). Upload that notebook to your GitHub repository for this final."
   ]
  },
  {
   "cell_type": "markdown",
   "metadata": {},
   "source": [
    "## 2. Answer the Following Questions\n",
    "\n",
    "These are real questions where I'd like you to write a few sentences about your code. The goal is to show that you've thought carefully about your code and can say something insightful about your work. "
   ]
  },
  {
   "cell_type": "markdown",
   "metadata": {},
   "source": [
    "### a) What was your favorite homework problem? What did you learn from doing it?\n",
    "\n",
    "*My favorite homework problem was the calculation oft the volume of a N-Ball using monte Carlo; I learned the value of the montecarlo method*"
   ]
  },
  {
   "cell_type": "markdown",
   "metadata": {},
   "source": [
    "### b) What was the most difficult problem? What was confusing or frustrating about it?\n",
    "\n",
    "*8b; the way in which we appplied the metropolis algorithm still causes me to scratch my head as I didn't grasp it vert well.*"
   ]
  },
  {
   "cell_type": "markdown",
   "metadata": {},
   "source": [
    "### c) In your own words, give an example of a problem where you would use Markov Chain Monte Carlo (MCMC). Briefly describe how MCMC works.\n",
    "\n",
    "*Markov Chain Monte Carlo works by random sequence sampling; what this means is that if something moves right randomly from (0,0) to (2,0) the particle will remain there until it moves randomly again. This useful for modeling individual particles of multiparticle systems. A problem where this would be useful for  is any type of statistical modeling *"
   ]
  },
  {
   "cell_type": "markdown",
   "metadata": {},
   "source": [
    "### d) ELI5: Pick one technical idea from the course and explain it to a five-year-old.\n",
    "\n",
    "*The Ising Model: Say you have a chess board and you put a quarter on each square so that they are all facing face down or face up. Then you slam your fist on the board and if you slam it hard enough some of the quarters might flip from face down to face up.*"
   ]
  },
  {
   "cell_type": "markdown",
   "metadata": {},
   "source": [
    "## 3. Evaluation (not for a grade)\n",
    "\n",
    "I hope you filled out the `iEval` before Jun 8th. In this cell, please feel free to share constructive criticism about the course. What did you like? What did you not like? Are there topics that you really wish we covered or didn't cover? What should I know to be a better lecturer?\n",
    "\n",
    "*I really wish we had covered more particle simulations personally or even modelings via animations of poly pendulums. But I really enjoyed this class and I have very few criticisms for it. Thank you for an Awesome Class Professor *"
   ]
  },
  {
   "cell_type": "markdown",
   "metadata": {},
   "source": [
    "## Closing thoughts\n",
    "\n",
    "It's been a real joy to be part of this class---I was really impressed by each of your midterm presentations and have had a lot of fun with our discussions. In whatever is ahead of you beyond this class, I look forward to hearing how you each succeed.\n",
    "\n",
    "I encourage you to make your GitHub repositories public (you may need to duplicate them) so that you can show them off to the world."
   ]
  }
 ],
 "metadata": {
  "kernelspec": {
   "display_name": "Python 3",
   "language": "python",
   "name": "python3"
  },
  "language_info": {
   "codemirror_mode": {
    "name": "ipython",
    "version": 3
   },
   "file_extension": ".py",
   "mimetype": "text/x-python",
   "name": "python",
   "nbconvert_exporter": "python",
   "pygments_lexer": "ipython3",
   "version": "3.6.4"
  }
 },
 "nbformat": 4,
 "nbformat_minor": 2
}
